{
 "cells": [
  {
   "cell_type": "code",
   "execution_count": 1,
   "metadata": {},
   "outputs": [],
   "source": [
    "# Import necessary functions for optimization\n",
    "from scipy import optimize\n",
    "import numpy as np\n",
    "import matplotlib.pyplot as plt\n",
    "import pandas as pd\n",
    "import math"
   ]
  },
  {
   "cell_type": "code",
   "execution_count": 2,
   "metadata": {},
   "outputs": [],
   "source": [
    "class constraint:\n",
    "    def __init__(self, name, minvalue, maxvalue):\n",
    "        self.name = name\n",
    "        self.minvalue = minvalue\n",
    "        self.maxvalue = maxvalue\n",
    "\n",
    "\n",
    "# Define the function to be optimized\n",
    "def calories(fat, protein, carbs):\n",
    "    return 9*fat + 4*protein + 4*carbs\n",
    "\n",
    "# Ask for user input for the constraints\n",
    "\n",
    "\n",
    "\n",
    "\n",
    "\n",
    "\n"
   ]
  },
  {
   "cell_type": "code",
   "execution_count": 3,
   "metadata": {},
   "outputs": [
    {
     "ename": "TypeError",
     "evalue": "raw_input() takes from 1 to 2 positional arguments but 4 were given",
     "output_type": "error",
     "traceback": [
      "\u001b[0;31m---------------------------------------------------------------------------\u001b[0m",
      "\u001b[0;31mTypeError\u001b[0m                                 Traceback (most recent call last)",
      "Cell \u001b[0;32mIn [3], line 1\u001b[0m\n\u001b[0;32m----> 1\u001b[0m get_constraints()\n",
      "Cell \u001b[0;32mIn [2], line 17\u001b[0m, in \u001b[0;36mget_constraints\u001b[0;34m()\u001b[0m\n\u001b[1;32m     15\u001b[0m constraints \u001b[39m=\u001b[39m []\n\u001b[1;32m     16\u001b[0m \u001b[39mfor\u001b[39;00m i \u001b[39min\u001b[39;00m macros:\n\u001b[0;32m---> 17\u001b[0m     minvalue \u001b[39m=\u001b[39m \u001b[39mfloat\u001b[39m(\u001b[39minput\u001b[39;49m(\u001b[39m\"\u001b[39;49m\u001b[39mEnter the minimum value for \u001b[39;49m\u001b[39m\"\u001b[39;49m,macros, \u001b[39m\"\u001b[39;49m\u001b[39m: \u001b[39;49m\u001b[39m\"\u001b[39;49m))\n\u001b[1;32m     18\u001b[0m     maxvalue \u001b[39m=\u001b[39m \u001b[39mfloat\u001b[39m(\u001b[39minput\u001b[39m(\u001b[39m\"\u001b[39m\u001b[39mEnter the maximum value for \u001b[39m\u001b[39m\"\u001b[39m, macros,\u001b[39m\"\u001b[39m\u001b[39m: \u001b[39m\u001b[39m\"\u001b[39m))\n\u001b[1;32m     19\u001b[0m     constraints\u001b[39m.\u001b[39mappend(constraint(macros, minvalue, maxvalue))\n",
      "\u001b[0;31mTypeError\u001b[0m: raw_input() takes from 1 to 2 positional arguments but 4 were given"
     ]
    }
   ],
   "source": [
    "get_constraints()"
   ]
  },
  {
   "cell_type": "code",
   "execution_count": 4,
   "metadata": {},
   "outputs": [],
   "source": [
    "from pulp import *"
   ]
  },
  {
   "cell_type": "code",
   "execution_count": 5,
   "metadata": {},
   "outputs": [],
   "source": [
    "model = LpProblem(name=\"small-problem\", sense=LpMaximize)"
   ]
  },
  {
   "cell_type": "code",
   "execution_count": 6,
   "metadata": {},
   "outputs": [],
   "source": [
    "x = LpVariable(name=\"x\", lowBound=0)\n",
    "y = LpVariable(name=\"y\", lowBound=0)"
   ]
  },
  {
   "cell_type": "code",
   "execution_count": 7,
   "metadata": {},
   "outputs": [],
   "source": [
    "from pulp import GLPK"
   ]
  },
  {
   "cell_type": "code",
   "execution_count": 51,
   "metadata": {},
   "outputs": [],
   "source": [
    "def getMeals(fatMin, fatMax, proteinMin, proteinMax, carbsMin, carbsMax):\n",
    "    meal1 = LpProblem(\"Meal_Planning_Problem\",LpMinimize)\n",
    "\n",
    "    # Read the first few rows dataset in a Pandas DataFrame\n",
    "    # Read only the nutrition info not the bounds/constraints\n",
    "    df = pd.read_excel(\"diet.xls\",nrows=64)\n",
    "\n",
    "    # Create a list of the food items\n",
    "    food_items = list(df['Foods'])\n",
    "    # Create a dictionary of calories for all food items\n",
    "    calories = dict(zip(food_items,df['Calories']))\n",
    "    # Create a dictionary of total fat for all food items\n",
    "    fat = dict(zip(food_items,df['Total_Fat g']))\n",
    "    # Create a dictionary of carbohydrates for all food items\n",
    "    carbs = dict(zip(food_items,df['Carbohydrates g']))\n",
    "    # Create a dictionary of protein for all food items\n",
    "    protein = dict(zip(food_items,df['Protein g']))\n",
    "\n",
    "    # Corresponds to serving sizes\n",
    "    food_vars = LpVariable.dicts(\"Food\",food_items,lowBound=0,cat='Integer')\n",
    "\n",
    "    # Fat\n",
    "    meal1 += lpSum([fat[f] * food_vars[f] for f in food_items]) >= fatMin, \"FatMinimum\"\n",
    "    meal1 += lpSum([fat[f] * food_vars[f] for f in food_items]) <= fatMax, \"FatMaximum\"\n",
    "\n",
    "    # Carbs\n",
    "    meal1 += lpSum([carbs[f] * food_vars[f] for f in food_items]) >= carbsMin, \"CarbsMinimum\"\n",
    "    meal1 += lpSum([carbs[f] * food_vars[f] for f in food_items]) <= carbsMax, \"CarbsMaximum\"\n",
    "\n",
    "    # Protein\n",
    "    meal1 += lpSum([protein[f] * food_vars[f] for f in food_items]) >= proteinMin, \"ProteinMinimum\"\n",
    "    meal1 += lpSum([protein[f] * food_vars[f] for f in food_items]) <= proteinMax, \"ProteinMaximum\"\n",
    "\n",
    "    # Calories\n",
    "    #prob += lpSum([calories[f] * food_vars[f] for f in food_items]) >= calories(fatMin, proteinMin, carbsMin), \"CaloriesMinimum\"\n",
    "    #prob += lpSum([calories[f] * food_vars[f] for f in food_items]) <= calories(fatMax, proteinMax, carbsMax), \"CaloriesMaximum\"\n",
    "\n",
    "    for f in food_items:\n",
    "        meal1 += food_vars[f] <= 2\n",
    "\n",
    "    meal1.solve()\n",
    "\n",
    "    for v in meal1.variables():\n",
    "        if v.varValue > 0:\n",
    "            print(v.name, \"=\", v.varValue)"
   ]
  },
  {
   "cell_type": "code",
   "execution_count": 52,
   "metadata": {},
   "outputs": [
    {
     "name": "stdout",
     "output_type": "stream",
     "text": [
      "Welcome to the CBC MILP Solver \n",
      "Version: 2.10.3 \n",
      "Build Date: Dec 15 2019 \n",
      "\n",
      "command line - /Users/justin_tackett/Library/Python/3.9/lib/python/site-packages/pulp/solverdir/cbc/osx/64/cbc /var/folders/wh/z6yqs3j949b27j816f6gykt80000gn/T/da98f422b3a245f2a220e7d03b230c81-pulp.mps timeMode elapsed branch printingOptions all solution /var/folders/wh/z6yqs3j949b27j816f6gykt80000gn/T/da98f422b3a245f2a220e7d03b230c81-pulp.sol (default strategy 1)\n",
      "At line 2 NAME          MODEL\n",
      "At line 3 ROWS\n",
      "At line 75 COLUMNS\n",
      "At line 639 RHS\n",
      "At line 710 BOUNDS\n",
      "At line 776 ENDATA\n",
      "Problem MODEL has 70 rows, 65 columns and 434 elements\n",
      "Coin0008I MODEL read with 0 errors\n",
      "Option for timeMode changed from cpu to elapsed\n",
      "Continuous objective value is 0 - 0.00 seconds\n",
      "Cgl0004I processed model has 3 rows, 63 columns (63 integer (2 of which binary)) and 182 elements\n",
      "Cbc0012I Integer solution of 0 found by DiveCoefficient after 0 iterations and 0 nodes (0.03 seconds)\n",
      "Cbc0001I Search completed - best objective 0, took 0 iterations and 0 nodes (0.03 seconds)\n",
      "Cbc0035I Maximum depth 0, 0 variables fixed on reduced cost\n",
      "Cuts at root node changed objective from 0 to 0\n",
      "Probing was tried 0 times and created 0 cuts of which 0 were active after adding rounds of cuts (0.000 seconds)\n",
      "Gomory was tried 0 times and created 0 cuts of which 0 were active after adding rounds of cuts (0.000 seconds)\n",
      "Knapsack was tried 0 times and created 0 cuts of which 0 were active after adding rounds of cuts (0.000 seconds)\n",
      "Clique was tried 0 times and created 0 cuts of which 0 were active after adding rounds of cuts (0.000 seconds)\n",
      "MixedIntegerRounding2 was tried 0 times and created 0 cuts of which 0 were active after adding rounds of cuts (0.000 seconds)\n",
      "FlowCover was tried 0 times and created 0 cuts of which 0 were active after adding rounds of cuts (0.000 seconds)\n",
      "TwoMirCuts was tried 0 times and created 0 cuts of which 0 were active after adding rounds of cuts (0.000 seconds)\n",
      "ZeroHalf was tried 0 times and created 0 cuts of which 0 were active after adding rounds of cuts (0.000 seconds)\n",
      "\n",
      "Result - Optimal solution found\n",
      "\n",
      "Objective value:                0.00000000\n",
      "Enumerated nodes:               0\n",
      "Total iterations:               0\n",
      "Time (CPU seconds):             0.00\n",
      "Time (Wallclock seconds):       0.03\n",
      "\n",
      "Option for printingOptions changed from normal to all\n",
      "Total time (CPU seconds):       0.01   (Wallclock seconds):       0.05\n",
      "\n",
      "Food_Beanbacn_Soup,W_Watr = 2.0\n",
      "Food_Butter,Regular = 2.0\n",
      "Food_Cheddar_Cheese = 2.0\n",
      "Food_Crm_Mshrm_Soup,W_Mlk = 2.0\n",
      "Food_Frankfurter,_Beef = 1.0\n",
      "Food_Kielbasa,Prk = 2.0\n",
      "Food_Sardines_in_Oil = 2.0\n"
     ]
    },
    {
     "ename": "TypeError",
     "evalue": "'>' not supported between instances of 'NoneType' and 'int'",
     "output_type": "error",
     "traceback": [
      "\u001b[0;31m---------------------------------------------------------------------------\u001b[0m",
      "\u001b[0;31mTypeError\u001b[0m                                 Traceback (most recent call last)",
      "Cell \u001b[0;32mIn [52], line 1\u001b[0m\n\u001b[0;32m----> 1\u001b[0m getMeals(\u001b[39m95\u001b[39;49m, \u001b[39m100\u001b[39;49m, \u001b[39m40\u001b[39;49m, \u001b[39m100\u001b[39;49m, \u001b[39m70\u001b[39;49m, \u001b[39m100\u001b[39;49m)\n",
      "Cell \u001b[0;32mIn [51], line 44\u001b[0m, in \u001b[0;36mgetMeals\u001b[0;34m(fatMin, fatMax, proteinMin, proteinMax, carbsMin, carbsMax)\u001b[0m\n\u001b[1;32m     41\u001b[0m meal1\u001b[39m.\u001b[39msolve()\n\u001b[1;32m     43\u001b[0m \u001b[39mfor\u001b[39;00m v \u001b[39min\u001b[39;00m meal1\u001b[39m.\u001b[39mvariables():\n\u001b[0;32m---> 44\u001b[0m     \u001b[39mif\u001b[39;00m v\u001b[39m.\u001b[39;49mvarValue \u001b[39m>\u001b[39;49m \u001b[39m0\u001b[39;49m:\n\u001b[1;32m     45\u001b[0m         \u001b[39mprint\u001b[39m(v\u001b[39m.\u001b[39mname, \u001b[39m\"\u001b[39m\u001b[39m=\u001b[39m\u001b[39m\"\u001b[39m, v\u001b[39m.\u001b[39mvarValue)\n",
      "\u001b[0;31mTypeError\u001b[0m: '>' not supported between instances of 'NoneType' and 'int'"
     ]
    }
   ],
   "source": [
    "getMeals(95, 100, 40, 100, 70, 100)"
   ]
  },
  {
   "cell_type": "code",
   "execution_count": 54,
   "metadata": {},
   "outputs": [],
   "source": [
    "bob = pd.read_excel(\"diet.xls\",nrows=64)\n",
    "\n",
    "# Create a list of the food items\n",
    "food_things = list(bob['Foods'])"
   ]
  },
  {
   "cell_type": "code",
   "execution_count": null,
   "metadata": {},
   "outputs": [],
   "source": []
  }
 ],
 "metadata": {
  "kernelspec": {
   "display_name": "Python 3.9.15 64-bit",
   "language": "python",
   "name": "python3"
  },
  "language_info": {
   "codemirror_mode": {
    "name": "ipython",
    "version": 3
   },
   "file_extension": ".py",
   "mimetype": "text/x-python",
   "name": "python",
   "nbconvert_exporter": "python",
   "pygments_lexer": "ipython3",
   "version": "3.9.15"
  },
  "orig_nbformat": 4,
  "vscode": {
   "interpreter": {
    "hash": "a665b5d41d17b532ea9890333293a1b812fa0b73c9c25c950b3cedf1bebd0438"
   }
  }
 },
 "nbformat": 4,
 "nbformat_minor": 2
}
